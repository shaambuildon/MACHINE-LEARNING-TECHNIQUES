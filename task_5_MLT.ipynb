{
  "nbformat": 4,
  "nbformat_minor": 0,
  "metadata": {
    "colab": {
      "provenance": [],
      "include_colab_link": true
    },
    "kernelspec": {
      "name": "python3",
      "display_name": "Python 3"
    },
    "language_info": {
      "name": "python"
    }
  },
  "cells": [
    {
      "cell_type": "markdown",
      "metadata": {
        "id": "view-in-github",
        "colab_type": "text"
      },
      "source": [
        "<a href=\"https://colab.research.google.com/github/shaambuildon/MACHINE-LEARNING-TECHNIQUES/blob/main/task_5_MLT.ipynb\" target=\"_parent\"><img src=\"https://colab.research.google.com/assets/colab-badge.svg\" alt=\"Open In Colab\"/></a>"
      ]
    },
    {
      "cell_type": "code",
      "source": [
        "import numpy as np\n",
        "import pandas as pd\n",
        "import matplotlib.pyplot as plt\n",
        "from sklearn.decomposition import PCA\n",
        "from sklearn.preprocessing import StandardScaler\n",
        "from sklearn.model_selection import train_test_split\n",
        "from sklearn.ensemble import RandomForestClassifier\n",
        "from sklearn.metrics import accuracy_score, confusion_matrix\n",
        "from sklearn.datasets import load_wine # Import load_wine\n",
        "\n",
        "# Load the wine dataset from scikit-learn\n",
        "wine = load_wine()\n",
        "X = pd.DataFrame(wine.data, columns=wine.feature_names)\n",
        "y = pd.Series(wine.target, name='target')\n",
        "\n",
        "#split the data into training and testing sets\n",
        "X_train, X_test, y_train, y_test = train_test_split(X, y, test_size=0.2, random_state=0)\n",
        "#standardize the features using only the training data\n",
        "\n",
        "scaler = StandardScaler()\n",
        "X_train_scaled = scaler.fit_transform(X_train)\n",
        "X_test_scaled = scaler.transform(X_test)\n",
        "#create a PCA object with the desired number of components\n",
        "pca = PCA(n_components=2)\n",
        "#fit the PCA on the scaled training data and transform both training and testing data\n",
        "X_train_pca = pca.fit_transform(X_train_scaled)\n",
        "X_test_pca = pca.transform(X_test_scaled)\n",
        "#create a Random Forest classifier and fit it on the training data\n",
        "clf = RandomForestClassifier(random_state=0)\n",
        "clf.fit(X_train_pca, y_train)\n",
        "#make predictions on the testing data\n",
        "y_pred = clf.predict(X_test_pca)\n",
        "#print the confusion matrix\n",
        "print('Accuracy : ' + str(accuracy_score(y_test, y_pred)))\n",
        "conf_m= confusion_matrix(y_test, y_pred)\n",
        "print(conf_m)"
      ],
      "metadata": {
        "colab": {
          "base_uri": "https://localhost:8080/"
        },
        "id": "fvcUgO5UhAeb",
        "outputId": "984883ba-f7b5-4ae8-cbd6-f65433e74a4c"
      },
      "execution_count": null,
      "outputs": [
        {
          "output_type": "stream",
          "name": "stdout",
          "text": [
            "Accuracy : 0.9722222222222222\n",
            "[[14  0  0]\n",
            " [ 1 15  0]\n",
            " [ 0  0  6]]\n"
          ]
        }
      ]
    }
  ]
}