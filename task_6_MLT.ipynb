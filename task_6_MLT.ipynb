{
  "nbformat": 4,
  "nbformat_minor": 0,
  "metadata": {
    "colab": {
      "provenance": [],
      "include_colab_link": true
    },
    "kernelspec": {
      "name": "python3",
      "display_name": "Python 3"
    },
    "language_info": {
      "name": "python"
    }
  },
  "cells": [
    {
      "cell_type": "markdown",
      "metadata": {
        "id": "view-in-github",
        "colab_type": "text"
      },
      "source": [
        "<a href=\"https://colab.research.google.com/github/shaambuildon/MACHINE-LEARNING-TECHNIQUES/blob/main/task_6_MLT.ipynb\" target=\"_parent\"><img src=\"https://colab.research.google.com/assets/colab-badge.svg\" alt=\"Open In Colab\"/></a>"
      ]
    },
    {
      "cell_type": "code",
      "source": [
        "import pandas as pd\n",
        "from sklearn.tree import DecisionTreeClassifier, export_text\n",
        "from sklearn import preprocessing\n",
        "\n",
        "# The provided data dictionary has a mismatch in the length of the 'Temperature', 'Humidity', and 'Wind' lists.\n",
        "# The corrected data below has been adjusted to have 13 entries for all columns.\n",
        "data = {'outlook': ['Sunny', 'Overcast', 'Rain', 'Sunny', 'Overcast', 'Rain', 'Overcast', 'Sunny', 'Rain', 'Sunny', 'Overcast', 'Overcast', 'Rain'],\n",
        "        'Temperature': ['Hot', 'Hot', 'Mild', 'Cool', 'Cool', 'Mild', 'Cool', 'Mild', 'Hot', 'Mild', 'Hot', 'Mild', 'Hot'],\n",
        "        'Humidity': ['High', 'High', 'High', 'Normal', 'Normal', 'High', 'Normal', 'High', 'Normal', 'Normal', 'High', 'Normal', 'High'],\n",
        "        'Wind': ['Weak', 'Weak', 'Weak', 'Strong', 'Weak', 'Strong', 'Strong', 'Weak', 'Weak', 'Strong', 'Weak', 'Strong', 'Weak'],\n",
        "        'playTennis': ['No', 'Yes', 'Yes', 'No', 'Yes', 'Yes', 'Yes', 'No', 'Yes', 'Yes', 'Yes', 'Yes', 'No']}\n",
        "\n",
        "df = pd.DataFrame(data)\n",
        "label_encoder = {}\n",
        "for col in df.columns:\n",
        "    le = preprocessing.LabelEncoder()\n",
        "    df[col] = le.fit_transform(df[col])\n",
        "    label_encoder[col] = le\n",
        "\n",
        "X = df.drop(columns=['playTennis'])\n",
        "Y = df['playTennis']\n",
        "\n",
        "clf = DecisionTreeClassifier(criterion=\"entropy\")\n",
        "clf.fit(X, Y)\n",
        "\n",
        "tree_rules = export_text(clf, feature_names=list(X.columns))\n",
        "print(\"Decision Tree:\\n\", tree_rules)\n",
        "\n",
        "sample = [[\n",
        "    label_encoder['outlook'].transform(['Rain'])[0],\n",
        "    label_encoder['Temperature'].transform(['Cool'])[0],\n",
        "    label_encoder['Humidity'].transform(['Normal'])[0],\n",
        "    label_encoder['Wind'].transform(['Weak'])[0]\n",
        "]]\n",
        "\n",
        "prediction = clf.predict(sample)\n",
        "predicted_label = label_encoder['playTennis'].inverse_transform(prediction)[0]\n",
        "print(\"In prediction for new sample:\", predicted_label)"
      ],
      "metadata": {
        "id": "H0OXnQ0akSUG",
        "colab": {
          "base_uri": "https://localhost:8080/"
        },
        "outputId": "832bdaad-cc2b-4be8-d95b-d61f745c3c83"
      },
      "execution_count": null,
      "outputs": [
        {
          "output_type": "stream",
          "name": "stdout",
          "text": [
            "Decision Tree:\n",
            " |--- outlook <= 1.50\n",
            "|   |--- outlook <= 0.50\n",
            "|   |   |--- class: 1\n",
            "|   |--- outlook >  0.50\n",
            "|   |   |--- Temperature <= 1.50\n",
            "|   |   |   |--- Humidity <= 0.50\n",
            "|   |   |   |   |--- class: 0\n",
            "|   |   |   |--- Humidity >  0.50\n",
            "|   |   |   |   |--- class: 1\n",
            "|   |   |--- Temperature >  1.50\n",
            "|   |   |   |--- class: 1\n",
            "|--- outlook >  1.50\n",
            "|   |--- Temperature <= 1.50\n",
            "|   |   |--- class: 0\n",
            "|   |--- Temperature >  1.50\n",
            "|   |   |--- Wind <= 0.50\n",
            "|   |   |   |--- class: 1\n",
            "|   |   |--- Wind >  0.50\n",
            "|   |   |   |--- class: 0\n",
            "\n",
            "In prediction for new sample: Yes\n"
          ]
        },
        {
          "output_type": "stream",
          "name": "stderr",
          "text": [
            "/usr/local/lib/python3.12/dist-packages/sklearn/utils/validation.py:2739: UserWarning: X does not have valid feature names, but DecisionTreeClassifier was fitted with feature names\n",
            "  warnings.warn(\n"
          ]
        }
      ]
    }
  ]
}