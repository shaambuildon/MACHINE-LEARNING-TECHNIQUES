{
  "nbformat": 4,
  "nbformat_minor": 0,
  "metadata": {
    "colab": {
      "provenance": [],
      "include_colab_link": true
    },
    "kernelspec": {
      "name": "python3",
      "display_name": "Python 3"
    },
    "language_info": {
      "name": "python"
    }
  },
  "cells": [
    {
      "cell_type": "markdown",
      "metadata": {
        "id": "view-in-github",
        "colab_type": "text"
      },
      "source": [
        "<a href=\"https://colab.research.google.com/github/shaambuildon/MACHINE-LEARNING-TECHNIQUES/blob/main/task_1_MLT.ipynb\" target=\"_parent\"><img src=\"https://colab.research.google.com/assets/colab-badge.svg\" alt=\"Open In Colab\"/></a>"
      ]
    },
    {
      "cell_type": "code",
      "execution_count": null,
      "metadata": {
        "colab": {
          "base_uri": "https://localhost:8080/"
        },
        "id": "t-n74pdGjgyL",
        "outputId": "003b5cdd-08e9-4278-ef40-a72e71af790f"
      },
      "outputs": [
        {
          "output_type": "stream",
          "name": "stdout",
          "text": [
            "      Time Weather Temperature Company Humidity    Wind Goes\n",
            "0  Morning   Sunny        Warm     Yes     Mild  Strong  Yes\n",
            "1  Evening   Rainy        Cold      No     Mild  Normal   No\n",
            "2  Morning   Sunny    Moderate     Yes   Normal  Normal  Yes\n",
            "3  Evening   Sunny        Cold     Yes     High  Strong  Yes\n",
            "n The attribute are:  [['Morning' 'Sunny' 'Warm' 'Yes' 'Mild' 'Strong']\n",
            " ['Evening' 'Rainy' 'Cold' 'No' 'Mild' 'Normal']\n",
            " ['Morning' 'Sunny' 'Moderate' 'Yes' 'Normal' 'Normal']\n",
            " ['Evening' 'Sunny' 'Cold' 'Yes' 'High' 'Strong']]\n",
            " n The target is:  ['Yes' 'No' 'Yes' 'Yes']\n",
            " \n",
            " The final hypothesis is :  ['?' 'Sunny' '?' 'Yes' '?' '?']\n"
          ]
        }
      ],
      "source": [
        "import pandas as pd\n",
        "import numpy as np\n",
        "data = pd.read_csv(\"/content/weather_data.csv\")\n",
        "print(data)\n",
        "d=np.array(data)[:,:-1]\n",
        "print(\"n The attribute are: \",d)\n",
        "target= np.array(data)[:,-1]\n",
        "print(\" n The target is: \", target)\n",
        "def train (c,t):\n",
        "  for i,val in enumerate(t):\n",
        "    if val =='Yes':\n",
        "      specific_hypothesis=c[i].copy()\n",
        "      break\n",
        "  for i,val in enumerate(c):\n",
        "    if t[i] =='Yes':\n",
        "      for x in range(len(specific_hypothesis)):\n",
        "        if val[x] != specific_hypothesis[x]:\n",
        "          specific_hypothesis[x] = '?'\n",
        "        else:\n",
        "          pass\n",
        "  return specific_hypothesis\n",
        "print(\" \\n The final hypothesis is : \", train(d,target))"
      ]
    }
  ]
}